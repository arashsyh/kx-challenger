{
 "cells": [
  {
   "cell_type": "code",
   "execution_count": 2,
   "metadata": {},
   "outputs": [],
   "source": [
    "import pandas as pd\n",
    "import numpy as np"
   ]
  },
  {
   "cell_type": "code",
   "execution_count": 3,
   "metadata": {},
   "outputs": [],
   "source": [
    "train_data = pd.read_csv('train_w_weight.csv')\n",
    "# Removing index and name columns\n",
    "train_data = train_data.drop(['EmployeeID', 'Name'], axis=1)\n"
   ]
  },
  {
   "cell_type": "code",
   "execution_count": null,
   "metadata": {},
   "outputs": [],
   "source": [
    "# define a function for reading the data form database and convert in to a dataframe"
   ]
  },
  {
   "cell_type": "code",
   "execution_count": null,
   "metadata": {},
   "outputs": [],
   "source": [
    "def top_10(similarities):\n",
    "    # Returns indices of top-10 similar employees in negative_attrition df\n",
    "    top_10_similar_indices = []\n",
    "    top_10_similarity_values = []\n",
    "    for i in range(10):\n",
    "        max_index = np.argmax(similarities)\n",
    "        max_value = np.max(similarities)\n",
    "        top_10_similar_indices.append(max_index)\n",
    "        top_10_similarity_values.append(max_value)\n",
    "        \"Remove the max element\"\n",
    "        del top_10_similars[max_index]\n",
    "    return top_10_similar_indices, top_10_similarity_values"
   ]
  },
  {
   "cell_type": "code",
   "execution_count": 5,
   "metadata": {},
   "outputs": [],
   "source": [
    "def cosine_similarity(employee):\n",
    "    # Calculate Cosine similarity of employees to the requested employee\n",
    "    similarities = []\n",
    "    for index, row in negative_attrition.iterrows():\n",
    "        cos_similarity = np.dot(employee, row)/(np.linalg.norm(employee)*np.linalg.norm(row))\n",
    "        similarities.append(cos_similarity)\n",
    "    top_10_similar_indices, top_10_similarity_values = top_10(similarities)\n",
    "    return top_10_similar_indices, top_10_similarity_values"
   ]
  },
  {
   "cell_type": "code",
   "execution_count": null,
   "metadata": {},
   "outputs": [],
   "source": [
    "def calculate_recommendation_values(employee, counterparts, similarities):\n",
    "    recommendation_columns = ['JobInvolvement', 'MonthlyIncome', 'PercentSalaryHike', 'StockOptionLevel'\n",
    "                             , 'TrainingTimesLastYear', 'YearsInCurrentRole', 'YearsSinceLastPromotion', 'YearsWithCurrManager']\n",
    "    recommended_values = counterparts[recommendation_columns].apply(lambda x = np.average(x, weights=similarities))\n",
    "    accepted_recommendation = dict()\n",
    "    accepted_recommendation['JobInvolvement'] = round(recommendation_values['JobInvolvement'])\n",
    "    accepted_recommendation['TrainingTimesLastYear'] = round(recommendation_values['TrainingTimesLastYear'])\n",
    "    accepted_recommendation['YearsInCurrentRole'] = round(recommendation_values['YearsInCurrentRole'])\n",
    "    accepted_recommendation['YearsWithCurrManager'] = round(recommendation_values['YearsWithCurrManager'])\n",
    "    \n",
    "    if employee['MonthlyIncome'] < recommended_values['MonthlyIncome']:\n",
    "        accepted_recommendation['MonthlyIncome'] = recommended_values['MonthlyIncome']\n",
    "    else:\n",
    "        accepted_recommendation['MonthlyIncome'] = None\n",
    "        \n",
    "    if employee['PercentSalaryHike'] < recommended_values['PercentSalaryHike']:\n",
    "        accepted_recommendation['PercentSalaryHike'] = recommended_values['PercentSalaryHike']\n",
    "    else:\n",
    "        accepted_recommendation['PercentSalaryHike'] = None\n",
    "    \n",
    "    if employee['StockOptionLevel'] < round(recommended_values['StockOptionLevel']):\n",
    "        accepted_recommendation['StockOptionLevel'] = round(recommended_values['StockOptionLevel'])\n",
    "    else:\n",
    "        accepted_recommendation['StockOptionLevel'] = None\n",
    "    \n",
    "    if employee['YearsSinceLastPromotion'] > round(recommended_values['YearsSinceLastPromotion']):\n",
    "        accepted_recommendation['YearsSinceLastPromotion'] = round(recommended_values['YearsSinceLastPromotion'])\n",
    "    else:\n",
    "        accepted_recommendation['YearsSinceLastPromotion'] = None\n",
    "    "
   ]
  },
  {
   "cell_type": "code",
   "execution_count": 6,
   "metadata": {},
   "outputs": [],
   "source": [
    "positive_attrition = train_data.loc[train_data['Attrition'] == 'No']\n",
    "negative_attrition = train_data.loc[train_data['Attrition'] == 'Yes']"
   ]
  },
  {
   "cell_type": "code",
   "execution_count": null,
   "metadata": {},
   "outputs": [],
   "source": [
    "for index, row in positive_attrition.iterrows():\n",
    "    top_10_similar_indices, top_10_similarity_values = cosine_similarity(row)\n",
    "    calculate_recommendation_values(row, negative_attrition.iloc[[top_10_similar_indices]], top_10_similarity_values)"
   ]
  },
  {
   "cell_type": "code",
   "execution_count": 14,
   "metadata": {},
   "outputs": [],
   "source": [
    "train_data_full = pd.read_csv('./data/full.csv')"
   ]
  }
 ],
 "metadata": {
  "kernelspec": {
   "display_name": "Python 3",
   "language": "python",
   "name": "python3"
  },
  "language_info": {
   "codemirror_mode": {
    "name": "ipython",
    "version": 3
   },
   "file_extension": ".py",
   "mimetype": "text/x-python",
   "name": "python",
   "nbconvert_exporter": "python",
   "pygments_lexer": "ipython3",
   "version": "3.8.5"
  }
 },
 "nbformat": 4,
 "nbformat_minor": 4
}
